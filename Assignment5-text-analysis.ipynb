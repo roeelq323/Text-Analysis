{
 "cells": [
  {
   "cell_type": "markdown",
   "metadata": {},
   "source": [
    "# Assignment 5 - Text Analysis\n",
    "An explanation this assignment could be found in the .pdf explanation document"
   ]
  },
  {
   "cell_type": "markdown",
   "metadata": {},
   "source": [
    "\n",
    "## Materials to review for this assignment\n",
    "<h4>From Moodle:</h4> \n",
    "<h5><u>Review the notebooks regarding the following python topics</u>:</h5>\n",
    "<div class=\"alert alert-info\">\n",
    "&#x2714; <b>Working with strings</b> (tutorial notebook)<br/>\n",
    "&#x2714; <b>Text Analysis</b> (tutorial notebook)<br/>\n",
    "&#x2714; <b>Hebrew text analysis tools (tokenizer, wordnet)</b> (moodle example)<br/>\n",
    "&#x2714; <b>(brief review) All previous notebooks</b><br/>\n",
    "</div> \n",
    "<h5><u>Review the presentations regarding the following topics</u>:</h5>\n",
    "<div class=\"alert alert-info\">\n",
    "&#x2714; <b>Text Analysis</b> (lecture presentation)<br/>\n",
    "&#x2714; <b>(brief review) All other presentations</b><br/>\n",
    "</div>"
   ]
  },
  {
   "cell_type": "markdown",
   "metadata": {},
   "source": [
    "## Preceding Step - import modules (packages)\n",
    "This step is necessary in order to use external modules (packages). <br/>"
   ]
  },
  {
   "cell_type": "code",
   "execution_count": 1,
   "metadata": {},
   "outputs": [],
   "source": [
    "# --------------------------------------\n",
    "import pandas as pd\n",
    "import numpy as np\n",
    "# --------------------------------------\n",
    "\n",
    "\n",
    "# --------------------------------------\n",
    "# ------------- visualizations:\n",
    "import seaborn as sns\n",
    "import matplotlib.pyplot as plt\n",
    "from matplotlib.colors import ListedColormap\n",
    "# --------------------------------------\n",
    "\n",
    "\n",
    "# ---------------------------------------\n",
    "import sklearn\n",
    "from sklearn import preprocessing, metrics, pipeline, model_selection, feature_extraction \n",
    "from sklearn import naive_bayes, linear_model, svm, neural_network, neighbors, tree\n",
    "from sklearn import decomposition, cluster\n",
    "\n",
    "from sklearn.model_selection import train_test_split, cross_val_score, GridSearchCV \n",
    "from sklearn.pipeline import Pipeline\n",
    "from sklearn.metrics import accuracy_score, confusion_matrix\n",
    "from sklearn.metrics import precision_score, recall_score, f1_score\n",
    "from sklearn.metrics import mean_squared_error, r2_score, silhouette_score\n",
    "from sklearn.preprocessing import MinMaxScaler, StandardScaler, LabelEncoder\n",
    "\n",
    "from sklearn.svm import LinearSVC\n",
    "from sklearn.neural_network import MLPClassifier\n",
    "from sklearn.linear_model import Perceptron, SGDClassifier\n",
    "from sklearn.decomposition import PCA\n",
    "from sklearn.cluster import KMeans\n",
    "from sklearn.naive_bayes import MultinomialNB, GaussianNB\n",
    "from sklearn.neighbors import KNeighborsClassifier\n",
    "from sklearn.tree import DecisionTreeClassifier\n",
    "# ---------------------------------------\n",
    "\n",
    "\n",
    "# ----------------- output and visualizations: \n",
    "import warnings\n",
    "from sklearn.exceptions import ConvergenceWarning\n",
    "warnings.simplefilter(\"ignore\")\n",
    "warnings.simplefilter(action='ignore', category=FutureWarning)\n",
    "warnings.simplefilter(\"ignore\", category=ConvergenceWarning)\n",
    "# show several prints in one cell. This will allow us to condence every trick in one cell.\n",
    "from IPython.core.interactiveshell import InteractiveShell\n",
    "InteractiveShell.ast_node_interactivity = \"all\"\n",
    "%matplotlib inline\n",
    "pd.pandas.set_option('display.max_columns', None)\n",
    "pd.set_option('display.float_format', lambda x: '%.3f' % x)\n",
    "# ---------------------------------------"
   ]
  },
  {
   "cell_type": "markdown",
   "metadata": {},
   "source": [
    "### Text analysis and String manipulation imports:"
   ]
  },
  {
   "cell_type": "code",
   "execution_count": 2,
   "metadata": {},
   "outputs": [],
   "source": [
    "# --------------------------------------\n",
    "# --------- Text analysis and Hebrew text analysis imports:\n",
    "# vectorizers:\n",
    "from sklearn.feature_extraction import text\n",
    "from sklearn.feature_extraction.text import CountVectorizer, TfidfVectorizer\n",
    "\n",
    "# regular expressions:\n",
    "import re\n",
    "# --------------------------------------"
   ]
  },
  {
   "cell_type": "markdown",
   "metadata": {},
   "source": [
    "### (optional) Hebrew text analysis - WordNet (for Hebrew)\n",
    "Note: the WordNet is not a must"
   ]
  },
  {
   "cell_type": "markdown",
   "metadata": {},
   "source": [
    "#### (optional) Only if you didn't install Wordnet (for Hebrew) use:"
   ]
  },
  {
   "cell_type": "code",
   "execution_count": null,
   "metadata": {},
   "outputs": [],
   "source": [
    "# word net installation:\n",
    "\n",
    "# unmark if you want to use and need to install\n",
    "# !pip install wn\n",
    "# !python -m wn download omw-he:1.4"
   ]
  },
  {
   "cell_type": "code",
   "execution_count": null,
   "metadata": {},
   "outputs": [],
   "source": [
    "# word net import:\n",
    "\n",
    "# unmark if you want to use:\n",
    "# import wn"
   ]
  },
  {
   "cell_type": "markdown",
   "metadata": {},
   "source": [
    "### (optional) Hebrew text analysis - hebrew_tokenizer (Tokenizer for Hebrew)\n",
    "Note: the hebrew_tokenizer is not a must"
   ]
  },
  {
   "cell_type": "markdown",
   "metadata": {},
   "source": [
    "#### (optional) Only if you didn't install hebrew_tokenizer use:"
   ]
  },
  {
   "cell_type": "code",
   "execution_count": 3,
   "metadata": {},
   "outputs": [
    {
     "name": "stdout",
     "output_type": "stream",
     "text": [
      "Requirement already satisfied: hebrew_tokenizer in d:\\anaconda\\lib\\site-packages (2.3.0)\n"
     ]
    }
   ],
   "source": [
    "# Hebrew tokenizer installation:\n",
    "\n",
    "# unmark if you want to use and need to install:\n",
    "!pip install hebrew_tokenizer"
   ]
  },
  {
   "cell_type": "code",
   "execution_count": 3,
   "metadata": {},
   "outputs": [
    {
     "name": "stdout",
     "output_type": "stream",
     "text": [
      "C:\\Users\\Roy\\Desktop\\assignment5-text_analysis\n"
     ]
    }
   ],
   "source": [
    "# Hebrew tokenizer import:\n",
    "\n",
    "# unmark if you want to use:\n",
    "import hebrew_tokenizer as ht"
   ]
  },
  {
   "cell_type": "markdown",
   "metadata": {},
   "source": [
    "### Reading input files\n",
    "Reading input files for train annotated corpus (raw text data) corpus and for the test corpus"
   ]
  },
  {
   "cell_type": "code",
   "execution_count": 158,
   "metadata": {},
   "outputs": [],
   "source": [
    "train_filename = 'annotated_corpus_for_train.csv'\n",
    "test_filename  = 'corpus_for_test.csv'\n",
    "df_train = pd.read_csv(train_filename, index_col=None, encoding='utf-8')\n",
    "df_test  = pd.read_csv(test_filename, index_col=None, encoding='utf-8')"
   ]
  },
  {
   "cell_type": "code",
   "execution_count": 159,
   "metadata": {
    "scrolled": true
   },
   "outputs": [
    {
     "data": {
      "text/html": [
       "<div>\n",
       "<style scoped>\n",
       "    .dataframe tbody tr th:only-of-type {\n",
       "        vertical-align: middle;\n",
       "    }\n",
       "\n",
       "    .dataframe tbody tr th {\n",
       "        vertical-align: top;\n",
       "    }\n",
       "\n",
       "    .dataframe thead th {\n",
       "        text-align: right;\n",
       "    }\n",
       "</style>\n",
       "<table border=\"1\" class=\"dataframe\">\n",
       "  <thead>\n",
       "    <tr style=\"text-align: right;\">\n",
       "      <th></th>\n",
       "      <th>story</th>\n",
       "      <th>gender</th>\n",
       "    </tr>\n",
       "  </thead>\n",
       "  <tbody>\n",
       "    <tr>\n",
       "      <th>0</th>\n",
       "      <td>כשחבר הזמין אותי לחול, לא באמת חשבתי שזה יקרה,...</td>\n",
       "      <td>m</td>\n",
       "    </tr>\n",
       "    <tr>\n",
       "      <th>1</th>\n",
       "      <td>לפני שהתגייסתי לצבא עשיתי כל מני מיונים ליחידו...</td>\n",
       "      <td>m</td>\n",
       "    </tr>\n",
       "    <tr>\n",
       "      <th>2</th>\n",
       "      <td>מאז שהתחילו הלימודים חלומו של כל סטודנט זה הפנ...</td>\n",
       "      <td>f</td>\n",
       "    </tr>\n",
       "    <tr>\n",
       "      <th>3</th>\n",
       "      <td>כשהייתי ילד, מטוסים היה הדבר שהכי ריתק אותי. ב...</td>\n",
       "      <td>m</td>\n",
       "    </tr>\n",
       "    <tr>\n",
       "      <th>4</th>\n",
       "      <td>‏הייתי מדריכה בכפר נוער ומתאם הכפר היינו צריכי...</td>\n",
       "      <td>f</td>\n",
       "    </tr>\n",
       "    <tr>\n",
       "      <th>5</th>\n",
       "      <td>לפני כ3 חודשים טסתי לרומא למשך שבוע. טסתי במטו...</td>\n",
       "      <td>f</td>\n",
       "    </tr>\n",
       "    <tr>\n",
       "      <th>6</th>\n",
       "      <td>אני כבר שנתיים נשוי והשנה אני ואישתי סוף סוף י...</td>\n",
       "      <td>m</td>\n",
       "    </tr>\n",
       "    <tr>\n",
       "      <th>7</th>\n",
       "      <td>השנה התחלנו שיפוץ בדירה שלנו בתל אביב. הדירה ה...</td>\n",
       "      <td>f</td>\n",
       "    </tr>\n",
       "  </tbody>\n",
       "</table>\n",
       "</div>"
      ],
      "text/plain": [
       "                                               story gender\n",
       "0  כשחבר הזמין אותי לחול, לא באמת חשבתי שזה יקרה,...      m\n",
       "1  לפני שהתגייסתי לצבא עשיתי כל מני מיונים ליחידו...      m\n",
       "2  מאז שהתחילו הלימודים חלומו של כל סטודנט זה הפנ...      f\n",
       "3  כשהייתי ילד, מטוסים היה הדבר שהכי ריתק אותי. ב...      m\n",
       "4  ‏הייתי מדריכה בכפר נוער ומתאם הכפר היינו צריכי...      f\n",
       "5  לפני כ3 חודשים טסתי לרומא למשך שבוע. טסתי במטו...      f\n",
       "6  אני כבר שנתיים נשוי והשנה אני ואישתי סוף סוף י...      m\n",
       "7  השנה התחלנו שיפוץ בדירה שלנו בתל אביב. הדירה ה...      f"
      ]
     },
     "execution_count": 159,
     "metadata": {},
     "output_type": "execute_result"
    },
    {
     "data": {
      "text/plain": [
       "(753, 2)"
      ]
     },
     "execution_count": 159,
     "metadata": {},
     "output_type": "execute_result"
    }
   ],
   "source": [
    "df_train.head(8)\n",
    "df_train.shape"
   ]
  },
  {
   "cell_type": "code",
   "execution_count": 160,
   "metadata": {},
   "outputs": [
    {
     "data": {
      "text/html": [
       "<div>\n",
       "<style scoped>\n",
       "    .dataframe tbody tr th:only-of-type {\n",
       "        vertical-align: middle;\n",
       "    }\n",
       "\n",
       "    .dataframe tbody tr th {\n",
       "        vertical-align: top;\n",
       "    }\n",
       "\n",
       "    .dataframe thead th {\n",
       "        text-align: right;\n",
       "    }\n",
       "</style>\n",
       "<table border=\"1\" class=\"dataframe\">\n",
       "  <thead>\n",
       "    <tr style=\"text-align: right;\">\n",
       "      <th></th>\n",
       "      <th>test_example_id</th>\n",
       "      <th>story</th>\n",
       "    </tr>\n",
       "  </thead>\n",
       "  <tbody>\n",
       "    <tr>\n",
       "      <th>0</th>\n",
       "      <td>0</td>\n",
       "      <td>כל קיץ אני והמשפחה נוסעים לארצות הברית לוס אנג...</td>\n",
       "    </tr>\n",
       "    <tr>\n",
       "      <th>1</th>\n",
       "      <td>1</td>\n",
       "      <td>הגעתי לשירות המדינה אחרי שנתיים כפעיל בתנועת \"...</td>\n",
       "    </tr>\n",
       "    <tr>\n",
       "      <th>2</th>\n",
       "      <td>2</td>\n",
       "      <td>אחת האהבות הגדולות שלי אלו הכלבים שלי ושל אישת...</td>\n",
       "    </tr>\n",
       "  </tbody>\n",
       "</table>\n",
       "</div>"
      ],
      "text/plain": [
       "   test_example_id                                              story\n",
       "0                0  כל קיץ אני והמשפחה נוסעים לארצות הברית לוס אנג...\n",
       "1                1  הגעתי לשירות המדינה אחרי שנתיים כפעיל בתנועת \"...\n",
       "2                2  אחת האהבות הגדולות שלי אלו הכלבים שלי ושל אישת..."
      ]
     },
     "execution_count": 160,
     "metadata": {},
     "output_type": "execute_result"
    },
    {
     "data": {
      "text/plain": [
       "(323, 2)"
      ]
     },
     "execution_count": 160,
     "metadata": {},
     "output_type": "execute_result"
    }
   ],
   "source": [
    "df_test.head(3)\n",
    "df_test.shape"
   ]
  },
  {
   "cell_type": "markdown",
   "metadata": {},
   "source": [
    "### Your implementation:\n",
    "Write your code solution in the following code-cells"
   ]
  },
  {
   "cell_type": "code",
   "execution_count": 124,
   "metadata": {},
   "outputs": [],
   "source": [
    "# cleaning the text from english words,numbers,special characters and trialing spaces:\n",
    "def cleaning_txt(s):\n",
    "    s = re.sub(r'[^\\w\\s]', '', s)\n",
    "    s = re.sub(r'\\s+', ' ', s)\n",
    "    s = re.sub(r'\\d+', '', s)\n",
    "    s = re.sub(r'[a-z]+', '' , s)\n",
    "    s = re.sub(r'[A-Z]+', '' , s)\n",
    "    s = s.strip()\n",
    "    return s\n",
    "\n",
    "# transforms the stories into feature vectors:\n",
    "def make_Vector(df,kind,m):\n",
    "    if(kind == 'c'):\n",
    "        vec = CountVectorizer(min_df=m)\n",
    "    if(kind == 't'):\n",
    "        vec = TfidfVectorizer(min_df=m)\n",
    "    df = vec.fit_transform(df)\n",
    "    new = pd.DataFrame(df.toarray(), columns=vec.get_feature_names_out())\n",
    "    return new\n",
    "\n",
    "\n",
    "# making all the models:\n",
    "def make_Models():\n",
    "    models = dict()\n",
    "    models[\"KNN\"] = KNeighborsClassifier()  \n",
    "    models[\"Decsion_Tree\"] = tree.DecisionTreeClassifier()\n",
    "    models[\"Perceptron\"] = Perceptron()\n",
    "    models[\"Naive_Bayes\"] = GaussianNB()\n",
    "    models[\"SVM\"] = SGDClassifier()\n",
    "    return models\n",
    "\n",
    "# training the models and finding the best parameters that go along with them:\n",
    "def Train_and_Fit(model_str,models,para):\n",
    "    for m in models_str:\n",
    "        clf = GridSearchCV(models[m], para[m])  \n",
    "        clf.fit(X_train,y_train)\n",
    "        print(\"Model: \",m)\n",
    "        print(\"Best parameters: \", clf.best_params_)\n",
    "        y_pred = clf.best_estimator_.predict(X_test)\n",
    "        male_score = f1_score(y_test, y_pred, pos_label='m')\n",
    "        female_score = f1_score(y_test, y_pred, pos_label='f')\n",
    "        print(\"Male f1 score: \" ,male_score)\n",
    "        print(\"Female f1 score: \",female_score)\n",
    "        print(\"Average f1 score: \",(male_score+female_score)/2)\n",
    "        print(\"\\n\")"
   ]
  },
  {
   "cell_type": "code",
   "execution_count": 125,
   "metadata": {},
   "outputs": [
    {
     "name": "stdout",
     "output_type": "stream",
     "text": [
      "Using tfdi vector:\n",
      "Model:  Decsion_Tree\n",
      "Best parameters:  {'max_depth': 7, 'min_samples_split': 5}\n",
      "Male f1 score:  0.8395061728395061\n",
      "Female f1 score:  0.33898305084745767\n",
      "Average f1 score:  0.5892446118434819\n",
      "\n",
      "\n",
      "Model:  KNN\n",
      "Best parameters:  {'metric': 'euclidean', 'n_neighbors': 3}\n",
      "Male f1 score:  0.8603773584905661\n",
      "Female f1 score:  0.0\n",
      "Average f1 score:  0.43018867924528303\n",
      "\n",
      "\n",
      "Model:  Naive_Bayes\n",
      "Best parameters:  {}\n",
      "Male f1 score:  0.8636363636363636\n",
      "Female f1 score:  0.052631578947368425\n",
      "Average f1 score:  0.45813397129186606\n",
      "\n",
      "\n",
      "Model:  Perceptron\n",
      "Best parameters:  {'alpha': 0.0001, 'penalty': 'l1'}\n",
      "Male f1 score:  0.8774703557312253\n",
      "Female f1 score:  0.3673469387755103\n",
      "Average f1 score:  0.6224086472533679\n",
      "\n",
      "\n",
      "Model:  SVM\n",
      "Best parameters:  {'alpha': 0.0001, 'loss': 'modified_huber', 'max_iter': 5, 'penalty': 'l2'}\n",
      "Male f1 score:  0.8806584362139916\n",
      "Female f1 score:  0.5084745762711864\n",
      "Average f1 score:  0.694566506242589\n",
      "\n",
      "\n"
     ]
    }
   ],
   "source": [
    "# YOUR CODE HERE\n",
    "X = df_train[\"story\"]\n",
    "cln_X = X.copy()\n",
    "y = df_train[\"gender\"]\n",
    "\n",
    "# cleaning the stories:\n",
    "for i in range(len(X)):\n",
    "    cln_X.at[i] = cleaning_txt(cln_X.at[i])\n",
    "\n",
    "# transforming the stories to feature vectors using the 2 methods:\n",
    "X_count = make_Vector(cln_X,'c',0)\n",
    "X_tfdi = make_Vector(cln_X,'t',0)\n",
    "\n",
    "# scaling the feature vectors:\n",
    "scaler = MinMaxScaler()\n",
    "X_count = scaler.fit_transform(X_count)\n",
    "X_tfdi = scaler.fit_transform(X_tfdi)\n",
    "\n",
    "# spliting data for training and testing:\n",
    "X_train,X_test,y_train,y_test = train_test_split(X_tfdi, y, test_size=0.2, random_state=42)\n",
    "\n",
    "# all the parameters that are going to be tested and compared upon:\n",
    "para = {'KNN': {'n_neighbors': [3,5,7], 'metric': ['euclidean', 'manhattan', 'minkowski']},\n",
    "        'Decsion_Tree': {'max_depth':[3,5,7] , 'min_samples_split': range(5,30,5)},\n",
    "        'Perceptron': {'alpha': [0.0001, 0.05],'penalty':['l2','l1','elasticnet']},\n",
    "        'SVM': {'loss': ['hinge','log_loss','modified_huber'],'max_iter': [5],'alpha': [0.0001, 0.05],'penalty':['l2','l1','elasticnet']},\n",
    "        'Naive_Bayes': {}}\n",
    "\n",
    "# results using the tfdi feature vectors:\n",
    "print(\"Using tfdi vector:\")\n",
    "models_str=['Decsion_Tree','KNN', 'Naive_Bayes', 'Perceptron','SVM']\n",
    "models = make_Models()\n",
    "Train_and_Fit(models_str,models,para)"
   ]
  },
  {
   "cell_type": "code",
   "execution_count": 126,
   "metadata": {
    "scrolled": false
   },
   "outputs": [
    {
     "name": "stdout",
     "output_type": "stream",
     "text": [
      "Using count vector:\n",
      "Model:  Decsion_Tree\n",
      "Best parameters:  {'max_depth': 3, 'min_samples_split': 20}\n",
      "Male f1 score:  0.8671875\n",
      "Female f1 score:  0.26086956521739135\n",
      "Average f1 score:  0.5640285326086957\n",
      "\n",
      "\n",
      "Model:  KNN\n",
      "Best parameters:  {'metric': 'manhattan', 'n_neighbors': 3}\n",
      "Male f1 score:  0.8603773584905661\n",
      "Female f1 score:  0.0\n",
      "Average f1 score:  0.43018867924528303\n",
      "\n",
      "\n",
      "Model:  Naive_Bayes\n",
      "Best parameters:  {}\n",
      "Male f1 score:  0.8636363636363636\n",
      "Female f1 score:  0.052631578947368425\n",
      "Average f1 score:  0.45813397129186606\n",
      "\n",
      "\n",
      "Model:  Perceptron\n",
      "Best parameters:  {'alpha': 0.0001, 'penalty': 'l1'}\n",
      "Male f1 score:  0.8709677419354839\n",
      "Female f1 score:  0.40740740740740744\n",
      "Average f1 score:  0.6391875746714457\n",
      "\n",
      "\n",
      "Model:  SVM\n",
      "Best parameters:  {'alpha': 0.0001, 'loss': 'modified_huber', 'max_iter': 5, 'penalty': 'l2'}\n",
      "Male f1 score:  0.874015748031496\n",
      "Female f1 score:  0.33333333333333337\n",
      "Average f1 score:  0.6036745406824147\n",
      "\n",
      "\n"
     ]
    }
   ],
   "source": [
    "# results using count feature vectors:\n",
    "X_train,X_test,y_train,y_test = train_test_split(X_count, y, test_size=0.2, random_state=42)\n",
    "para = {'KNN': {'n_neighbors': [3,5,7], 'metric': ['euclidean', 'manhattan', 'minkowski']},\n",
    "        'Decsion_Tree': {'max_depth':[3,5,7] , 'min_samples_split': range(5,30,5)},\n",
    "        'Perceptron': {'alpha': [0.0001, 0.05],'penalty':['l2','l1','elasticnet']},\n",
    "        'SVM': {'loss': ['hinge','log_loss','modified_huber'],'max_iter': [5],'alpha': [0.0001, 0.05],'penalty':['l2','l1','elasticnet']},\n",
    "        'Naive_Bayes': {}}\n",
    "print(\"Using count vector:\")\n",
    "models2_str=['Decsion_Tree','KNN', 'Naive_Bayes', 'Perceptron','SVM']\n",
    "models2 = make_Models()\n",
    "Train_and_Fit(models2_str,models2,para)"
   ]
  },
  {
   "cell_type": "code",
   "execution_count": 136,
   "metadata": {},
   "outputs": [
    {
     "name": "stdout",
     "output_type": "stream",
     "text": [
      "Using tfdi vector with min_df = 2:\n",
      "Model:  Decsion_Tree\n",
      "Best parameters:  {'max_depth': 3, 'min_samples_split': 15}\n",
      "Male f1 score:  0.8616600790513833\n",
      "Female f1 score:  0.28571428571428575\n",
      "Average f1 score:  0.5736871823828346\n",
      "\n",
      "\n",
      "Model:  KNN\n",
      "Best parameters:  {'metric': 'euclidean', 'n_neighbors': 5}\n",
      "Male f1 score:  0.8603773584905661\n",
      "Female f1 score:  0.0\n",
      "Average f1 score:  0.43018867924528303\n",
      "\n",
      "\n",
      "Model:  Naive_Bayes\n",
      "Best parameters:  {}\n",
      "Male f1 score:  0.8636363636363636\n",
      "Female f1 score:  0.052631578947368425\n",
      "Average f1 score:  0.45813397129186606\n",
      "\n",
      "\n",
      "Model:  Perceptron\n",
      "Best parameters:  {'alpha': 0.0001, 'penalty': 'l1'}\n",
      "Male f1 score:  0.8852459016393444\n",
      "Female f1 score:  0.5172413793103449\n",
      "Average f1 score:  0.7012436404748446\n",
      "\n",
      "\n",
      "Model:  SVM\n",
      "Best parameters:  {'alpha': 0.0001, 'loss': 'hinge', 'max_iter': 5, 'penalty': 'l1'}\n",
      "Male f1 score:  0.8632478632478633\n",
      "Female f1 score:  0.5294117647058824\n",
      "Average f1 score:  0.6963298139768728\n",
      "\n",
      "\n"
     ]
    }
   ],
   "source": [
    "# changing the min_df variable in order to have less data and ignore typos:\n",
    "X_tfdi = make_Vector(cln_X,'t',2)\n",
    "scaler = MinMaxScaler()\n",
    "X_tfdi = scaler.fit_transform(X_tfdi)\n",
    "X_train,X_test,y_train,y_test = train_test_split(X_tfdi, y, test_size=0.2, random_state=42)\n",
    "\n",
    "print(\"Using tfdi vector with min_df = 2:\")\n",
    "models_str=['Decsion_Tree','KNN', 'Naive_Bayes', 'Perceptron','SVM']\n",
    "models = make_Models()\n",
    "Train_and_Fit(models_str,models,para)\n",
    "\n",
    "    "
   ]
  },
  {
   "cell_type": "code",
   "execution_count": 137,
   "metadata": {},
   "outputs": [
    {
     "name": "stdout",
     "output_type": "stream",
     "text": [
      "Using count vector with min_df = 50:\n",
      "Model:  Decsion_Tree\n",
      "Best parameters:  {'max_depth': 3, 'min_samples_split': 20}\n",
      "Male f1 score:  0.8593155893536121\n",
      "Female f1 score:  0.05128205128205129\n",
      "Average f1 score:  0.4552988203178317\n",
      "\n",
      "\n",
      "Model:  KNN\n",
      "Best parameters:  {'metric': 'euclidean', 'n_neighbors': 5}\n",
      "Male f1 score:  0.8593155893536121\n",
      "Female f1 score:  0.05128205128205129\n",
      "Average f1 score:  0.4552988203178317\n",
      "\n",
      "\n",
      "Model:  Naive_Bayes\n",
      "Best parameters:  {}\n",
      "Male f1 score:  0.8251121076233183\n",
      "Female f1 score:  0.5063291139240507\n",
      "Average f1 score:  0.6657206107736845\n",
      "\n",
      "\n",
      "Model:  Perceptron\n",
      "Best parameters:  {'alpha': 0.0001, 'penalty': 'l1'}\n",
      "Male f1 score:  0.8634361233480176\n",
      "Female f1 score:  0.5866666666666667\n",
      "Average f1 score:  0.7250513950073421\n",
      "\n",
      "\n",
      "Model:  SVM\n",
      "Best parameters:  {'alpha': 0.05, 'loss': 'modified_huber', 'max_iter': 5, 'penalty': 'l2'}\n",
      "Male f1 score:  0.8629032258064516\n",
      "Female f1 score:  0.37037037037037035\n",
      "Average f1 score:  0.616636798088411\n",
      "\n",
      "\n"
     ]
    }
   ],
   "source": [
    "X_tfdi = make_Vector(cln_X,'c',50)\n",
    "scaler = MinMaxScaler()\n",
    "X_tfdi = scaler.fit_transform(X_tfdi)\n",
    "X_train,X_test,y_train,y_test = train_test_split(X_tfdi, y, test_size=0.2, random_state=42)\n",
    "\n",
    "print(\"Using count vector with min_df = 50:\")\n",
    "models_str=['Decsion_Tree','KNN', 'Naive_Bayes', 'Perceptron','SVM']\n",
    "models = make_Models()\n",
    "Train_and_Fit(models_str,models,para)"
   ]
  },
  {
   "cell_type": "code",
   "execution_count": 185,
   "metadata": {},
   "outputs": [
    {
     "data": {
      "text/plain": [
       "Perceptron(penalty='l1')"
      ]
     },
     "execution_count": 185,
     "metadata": {},
     "output_type": "execute_result"
    },
    {
     "data": {
      "text/html": [
       "<div>\n",
       "<style scoped>\n",
       "    .dataframe tbody tr th:only-of-type {\n",
       "        vertical-align: middle;\n",
       "    }\n",
       "\n",
       "    .dataframe tbody tr th {\n",
       "        vertical-align: top;\n",
       "    }\n",
       "\n",
       "    .dataframe thead th {\n",
       "        text-align: right;\n",
       "    }\n",
       "</style>\n",
       "<table border=\"1\" class=\"dataframe\">\n",
       "  <thead>\n",
       "    <tr style=\"text-align: right;\">\n",
       "      <th></th>\n",
       "      <th>test_example_id</th>\n",
       "      <th>predicted_category</th>\n",
       "    </tr>\n",
       "  </thead>\n",
       "  <tbody>\n",
       "    <tr>\n",
       "      <th>0</th>\n",
       "      <td>0</td>\n",
       "      <td>m</td>\n",
       "    </tr>\n",
       "    <tr>\n",
       "      <th>1</th>\n",
       "      <td>1</td>\n",
       "      <td>m</td>\n",
       "    </tr>\n",
       "    <tr>\n",
       "      <th>2</th>\n",
       "      <td>2</td>\n",
       "      <td>m</td>\n",
       "    </tr>\n",
       "    <tr>\n",
       "      <th>3</th>\n",
       "      <td>3</td>\n",
       "      <td>m</td>\n",
       "    </tr>\n",
       "    <tr>\n",
       "      <th>4</th>\n",
       "      <td>4</td>\n",
       "      <td>m</td>\n",
       "    </tr>\n",
       "  </tbody>\n",
       "</table>\n",
       "</div>"
      ],
      "text/plain": [
       "   test_example_id predicted_category\n",
       "0                0                  m\n",
       "1                1                  m\n",
       "2                2                  m\n",
       "3                3                  m\n",
       "4                4                  m"
      ]
     },
     "execution_count": 185,
     "metadata": {},
     "output_type": "execute_result"
    },
    {
     "data": {
      "text/html": [
       "<div>\n",
       "<style scoped>\n",
       "    .dataframe tbody tr th:only-of-type {\n",
       "        vertical-align: middle;\n",
       "    }\n",
       "\n",
       "    .dataframe tbody tr th {\n",
       "        vertical-align: top;\n",
       "    }\n",
       "\n",
       "    .dataframe thead th {\n",
       "        text-align: right;\n",
       "    }\n",
       "</style>\n",
       "<table border=\"1\" class=\"dataframe\">\n",
       "  <thead>\n",
       "    <tr style=\"text-align: right;\">\n",
       "      <th></th>\n",
       "      <th>test_example_id</th>\n",
       "      <th>predicted_category</th>\n",
       "    </tr>\n",
       "  </thead>\n",
       "  <tbody>\n",
       "    <tr>\n",
       "      <th>318</th>\n",
       "      <td>318</td>\n",
       "      <td>m</td>\n",
       "    </tr>\n",
       "    <tr>\n",
       "      <th>319</th>\n",
       "      <td>319</td>\n",
       "      <td>m</td>\n",
       "    </tr>\n",
       "    <tr>\n",
       "      <th>320</th>\n",
       "      <td>320</td>\n",
       "      <td>m</td>\n",
       "    </tr>\n",
       "    <tr>\n",
       "      <th>321</th>\n",
       "      <td>321</td>\n",
       "      <td>m</td>\n",
       "    </tr>\n",
       "    <tr>\n",
       "      <th>322</th>\n",
       "      <td>322</td>\n",
       "      <td>m</td>\n",
       "    </tr>\n",
       "  </tbody>\n",
       "</table>\n",
       "</div>"
      ],
      "text/plain": [
       "     test_example_id predicted_category\n",
       "318              318                  m\n",
       "319              319                  m\n",
       "320              320                  m\n",
       "321              321                  m\n",
       "322              322                  m"
      ]
     },
     "execution_count": 185,
     "metadata": {},
     "output_type": "execute_result"
    }
   ],
   "source": [
    "#using the best model (perceptron) and prdeicting the test:\n",
    "combo = pd.concat([df_train[\"story\"], df_test[\"story\"]] , ignore_index=True)\n",
    "for i in range(len(X)):\n",
    "    combo.at[i] = cleaning_txt(combo.at[i])\n",
    "combo = make_Vector(combo,'c',50)\n",
    "X_train = combo.iloc[:753,:]\n",
    "X_test = combo.iloc[753:1076,:]\n",
    "y_train = df_train[\"gender\"]\n",
    "scaler = MinMaxScaler()\n",
    "X_train = scaler.fit_transform(X_train)\n",
    "X_test = scaler.fit_transform(X_test)\n",
    "clf = Perceptron(alpha=0.0001,penalty='l1')\n",
    "clf.fit(X_train,y_train)\n",
    "y_pred = clf.predict(X_test)\n",
    "result = pd.DataFrame({\"test_example_id\" : df_test[\"test_example_id\"] , \"predicted_category\": y_pred})\n",
    "result.head(5)\n",
    "result.tail(5)\n"
   ]
  },
  {
   "cell_type": "code",
   "execution_count": null,
   "metadata": {},
   "outputs": [],
   "source": []
  },
  {
   "cell_type": "code",
   "execution_count": null,
   "metadata": {},
   "outputs": [],
   "source": []
  },
  {
   "cell_type": "code",
   "execution_count": null,
   "metadata": {},
   "outputs": [],
   "source": []
  },
  {
   "cell_type": "code",
   "execution_count": null,
   "metadata": {},
   "outputs": [],
   "source": []
  },
  {
   "cell_type": "code",
   "execution_count": null,
   "metadata": {},
   "outputs": [],
   "source": []
  },
  {
   "cell_type": "code",
   "execution_count": null,
   "metadata": {},
   "outputs": [],
   "source": []
  },
  {
   "cell_type": "code",
   "execution_count": null,
   "metadata": {},
   "outputs": [],
   "source": []
  },
  {
   "cell_type": "code",
   "execution_count": null,
   "metadata": {},
   "outputs": [],
   "source": []
  },
  {
   "cell_type": "markdown",
   "metadata": {},
   "source": [
    "### Save output to csv (optional)\n",
    "After you're done save your output to the 'classification_results.csv' csv file.<br/>\n",
    "We assume that the dataframe with your results contain the following columns:\n",
    "* column 1 (left column): 'test_example_id'  - the same id associated to each of the test stories to be predicted.\n",
    "* column 2 (right column): 'predicted_category' - the predicted gender value for each of the associated story. \n",
    "\n",
    "Assuming your predicted values are in the `df_predicted` dataframe, you should save you're results as following:"
   ]
  },
  {
   "cell_type": "code",
   "execution_count": 187,
   "metadata": {},
   "outputs": [],
   "source": [
    "result.to_csv('classification_results.csv',index=False)"
   ]
  },
  {
   "cell_type": "code",
   "execution_count": null,
   "metadata": {},
   "outputs": [],
   "source": []
  }
 ],
 "metadata": {
  "celltoolbar": "Create Assignment",
  "kernelspec": {
   "display_name": "Python 3 (ipykernel)",
   "language": "python",
   "name": "python3"
  },
  "language_info": {
   "codemirror_mode": {
    "name": "ipython",
    "version": 3
   },
   "file_extension": ".py",
   "mimetype": "text/x-python",
   "name": "python",
   "nbconvert_exporter": "python",
   "pygments_lexer": "ipython3",
   "version": "3.9.13"
  }
 },
 "nbformat": 4,
 "nbformat_minor": 4
}
